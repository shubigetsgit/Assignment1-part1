{
 "cells": [
  {
   "cell_type": "code",
   "execution_count": 1,
   "id": "c65e5cc3",
   "metadata": {},
   "outputs": [],
   "source": [
    "#LINKS with codes"
   ]
  },
  {
   "cell_type": "code",
   "execution_count": 3,
   "id": "36b4644a",
   "metadata": {},
   "outputs": [],
   "source": [
    "#https://www.hackerrank.com/challenges/find-second-maximum-number-in-a-list/problem\n",
    "#https://www.hackerrank.com/challenges/python-arithmetic-operators/problem\n",
    "#https://www.hackerrank.com/challenges/python-division/problem\n",
    "#https://www.hackerrank.com/challenges/py-if-else/problem\n",
    "#https://www.hackerrank.com/challenges/nested-list/problem"
   ]
  },
  {
   "cell_type": "code",
   "execution_count": 14,
   "id": "861cdcf7",
   "metadata": {},
   "outputs": [
    {
     "name": "stdout",
     "output_type": "stream",
     "text": [
      "5\n",
      "2 3 6 6 5\n",
      "5\n"
     ]
    }
   ],
   "source": [
    "n = int(input())\n",
    "arr = map(int, input().split())\n",
    "arr = list(set (arr))\n",
    "arr.sort()\n",
    "print(arr[-2])\n",
    "\n"
   ]
  },
  {
   "cell_type": "code",
   "execution_count": 16,
   "id": "6f6c73e0",
   "metadata": {},
   "outputs": [
    {
     "name": "stdout",
     "output_type": "stream",
     "text": [
      "3\n",
      "5\n",
      "8\n",
      "-2\n",
      "15\n"
     ]
    }
   ],
   "source": [
    "a= int(input())\n",
    "b = int(input())\n",
    "print(a+b)\n",
    "print(a-b)\n",
    "print(a*b)"
   ]
  },
  {
   "cell_type": "code",
   "execution_count": 17,
   "id": "544dd959",
   "metadata": {},
   "outputs": [
    {
     "name": "stdout",
     "output_type": "stream",
     "text": [
      "4\n",
      "3\n",
      "1\n",
      "1.3333333333333333\n"
     ]
    }
   ],
   "source": [
    "    a = int(input())\n",
    "    b = int(input())\n",
    "    print (a//b)\n",
    "    print (a/b)\n"
   ]
  },
  {
   "cell_type": "code",
   "execution_count": 18,
   "id": "6c311174",
   "metadata": {},
   "outputs": [
    {
     "name": "stdout",
     "output_type": "stream",
     "text": [
      "3\n",
      "Weird\n"
     ]
    }
   ],
   "source": [
    "n = int (input())\n",
    "if n%2 != 0 :\n",
    "    print (\"Weird\")\n",
    "elif n in range (2,6) :\n",
    "    print (\"Not Weird\")\n",
    "elif n in range(6,21) :\n",
    "    print (\"Weird\")\n",
    "else :\n",
    "    print (\"Not Weird\")"
   ]
  },
  {
   "cell_type": "code",
   "execution_count": null,
   "id": "39f446e4",
   "metadata": {},
   "outputs": [],
   "source": []
  }
 ],
 "metadata": {
  "kernelspec": {
   "display_name": "Python 3 (ipykernel)",
   "language": "python",
   "name": "python3"
  },
  "language_info": {
   "codemirror_mode": {
    "name": "ipython",
    "version": 3
   },
   "file_extension": ".py",
   "mimetype": "text/x-python",
   "name": "python",
   "nbconvert_exporter": "python",
   "pygments_lexer": "ipython3",
   "version": "3.10.7"
  }
 },
 "nbformat": 4,
 "nbformat_minor": 5
}
